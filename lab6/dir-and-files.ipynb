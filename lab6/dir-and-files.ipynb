{
 "cells": [
  {
   "cell_type": "markdown",
   "metadata": {},
   "source": [
    "# Task 1"
   ]
  },
  {
   "cell_type": "code",
   "execution_count": 24,
   "metadata": {},
   "outputs": [
    {
     "name": "stdout",
     "output_type": "stream",
     "text": [
      "Dirs:  ['.git', 'lab1', 'lab2', 'lab3', 'lab4', 'lab5', 'lab6']\n",
      "Files:  []\n",
      "Everything:  ['.git', 'lab1', 'lab2', 'lab3', 'lab4', 'lab5', 'lab6']\n"
     ]
    }
   ],
   "source": [
    "import os\n",
    "path = \"C:\\\\Users\\\\Linexy\\\\Desktop\\\\KBTU\\\\1year\\\\PP2\"\n",
    "print(\"Dirs: \", [d for d in os.listdir(path) if os.path.isdir(os.path.join(path, d))])\n",
    "print(\"Files: \", [f for f in os.listdir(path) if os.path.isfile(os.path.join(path, f))])\n",
    "print(\"Everything: \", os.listdir(path))"
   ]
  },
  {
   "cell_type": "markdown",
   "metadata": {},
   "source": [
    "# Task 2"
   ]
  },
  {
   "cell_type": "code",
   "execution_count": 15,
   "metadata": {},
   "outputs": [
    {
     "name": "stdout",
     "output_type": "stream",
     "text": [
      "Exists: True\n",
      "Readable: True\n",
      "Writeable: True\n",
      "Executable: True\n"
     ]
    }
   ],
   "source": [
    "import os\n",
    "path = \"C:\\\\Users\\\\Linexy\\\\Desktop\\\\KBTU\\\\1year\\\\PP2\"\n",
    "print(\"Exists:\", os.path.exists(path))\n",
    "print(\"Readable:\", os.access(path, os.R_OK))\n",
    "print(\"Writeable:\", os.access(path, os.W_OK))\n",
    "print(\"Executable:\", os.access(path, os.X_OK))"
   ]
  },
  {
   "cell_type": "markdown",
   "metadata": {},
   "source": [
    "# Task 3"
   ]
  },
  {
   "cell_type": "code",
   "execution_count": null,
   "metadata": {},
   "outputs": [
    {
     "name": "stdout",
     "output_type": "stream",
     "text": [
      "Name: PP2\n",
      "Dir: C:\\Users\\Linexy\\Desktop\\KBTU\\1year\n"
     ]
    }
   ],
   "source": [
    "import os\n",
    "path = \"C:\\\\Users\\\\Linexy\\\\Desktop\\\\KBTU\\\\1year\\\\PP2\"\n",
    "if(os.path.exists(path)):\n",
    "    print(\"Name:\", os.path.basename(path))\n",
    "    print(\"Dir:\", os.path.dirname(path))\n",
    "else:\n",
    "    print(\"Does not exists\")"
   ]
  },
  {
   "cell_type": "markdown",
   "metadata": {},
   "source": [
    "# Task 4"
   ]
  },
  {
   "cell_type": "code",
   "execution_count": null,
   "metadata": {},
   "outputs": [
    {
     "name": "stdout",
     "output_type": "stream",
     "text": [
      "number of lines 5\n"
     ]
    }
   ],
   "source": [
    "import os\n",
    "path = \"C:\\\\Users\\\\Linexy\\\\Desktop\\\\KBTU\\\\1year\\\\PP2\\\\lab6\\\\dokum.txt\"\n",
    "with open(path, \"r\") as file:\n",
    "    print(\"number of lines\", sum(1 for _ in file))"
   ]
  },
  {
   "cell_type": "markdown",
   "metadata": {},
   "source": [
    "# Task 5"
   ]
  },
  {
   "cell_type": "code",
   "execution_count": 48,
   "metadata": {},
   "outputs": [],
   "source": [
    "import os\n",
    "soc_net = [\"YouTube\", \"twitch\", 2, 4, \"Instagram\"]\n",
    "path = \"C:\\\\Users\\\\Linexy\\\\Desktop\\\\KBTU\\\\1year\\\\PP2\\\\lab6\\\\dokum.txt\"\n",
    "with open(path, 'w') as file:\n",
    "    for x in soc_net:\n",
    "        file.write(f\"{x}\\n\")"
   ]
  },
  {
   "cell_type": "markdown",
   "metadata": {},
   "source": [
    "# Task 6"
   ]
  },
  {
   "cell_type": "code",
   "execution_count": 52,
   "metadata": {},
   "outputs": [],
   "source": [
    "import os\n",
    "import re\n",
    "range = \"ABCDE\"\n",
    "os.makedirs(\"TEST\", exist_ok=True)\n",
    "for letter in range:\n",
    "    with open(os.path.join(\"TEST\", f\"{letter}.txt\"), \"w\") as file:\n",
    "        file.write(\"just text file, nothin interesting\")"
   ]
  },
  {
   "cell_type": "markdown",
   "metadata": {},
   "source": [
    "# Task 7"
   ]
  },
  {
   "cell_type": "code",
   "execution_count": 53,
   "metadata": {},
   "outputs": [],
   "source": [
    "import os\n",
    "donor = \"C:\\\\Users\\\\Linexy\\\\Desktop\\\\KBTU\\\\1year\\\\PP2\\\\lab6\\\\dokum.txt\"\n",
    "recepient = \"C:\\\\Users\\\\Linexy\\\\Desktop\\\\KBTU\\\\1year\\\\PP2\\\\lab6\\\\TEST\\\\C.txt\"\n",
    "with open(donor, \"r\") as donor:\n",
    "    with open(recepient, \"w\") as recepient:\n",
    "        recepient.write(donor.read())"
   ]
  },
  {
   "cell_type": "markdown",
   "metadata": {},
   "source": [
    "# Task 8"
   ]
  },
  {
   "cell_type": "code",
   "execution_count": 50,
   "metadata": {},
   "outputs": [],
   "source": [
    "import os\n",
    "path = \"C:\\\\Users\\\\Linexy\\\\Desktop\\\\KBTU\\\\1year\\\\PP2\\\\lab6\\\\TEST\\\\B.txt\"\n",
    "if os.access(path, os.W_OK) and os.path.exists(path):\n",
    "    os.remove(path)\n",
    "else:\n",
    "    print(\"Does not exists or no access\")"
   ]
  }
 ],
 "metadata": {
  "kernelspec": {
   "display_name": "Python 3",
   "language": "python",
   "name": "python3"
  },
  "language_info": {
   "codemirror_mode": {
    "name": "ipython",
    "version": 3
   },
   "file_extension": ".py",
   "mimetype": "text/x-python",
   "name": "python",
   "nbconvert_exporter": "python",
   "pygments_lexer": "ipython3",
   "version": "3.13.1"
  }
 },
 "nbformat": 4,
 "nbformat_minor": 2
}
