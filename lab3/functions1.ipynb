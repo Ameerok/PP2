{
 "cells": [
  {
   "cell_type": "markdown",
   "metadata": {},
   "source": [
    "# Task 1"
   ]
  },
  {
   "cell_type": "code",
   "execution_count": 1,
   "metadata": {},
   "outputs": [
    {
     "name": "stdout",
     "output_type": "stream",
     "text": [
      "13 grams = 368.5438003 ounces\n"
     ]
    }
   ],
   "source": [
    "# Convert grams to ounces function\n",
    "n = int(input())\n",
    "def grams_to_ounces(grams):\n",
    "    return grams*28.3495231\n",
    "print(n, \"grams =\", grams_to_ounces(n), \"ounces\")"
   ]
  },
  {
   "cell_type": "markdown",
   "metadata": {},
   "source": [
    "# Task 2"
   ]
  },
  {
   "cell_type": "code",
   "execution_count": 2,
   "metadata": {},
   "outputs": [
    {
     "name": "stdout",
     "output_type": "stream",
     "text": [
      "344F = 173.33333333333334C\n"
     ]
    }
   ],
   "source": [
    "# Convert fahrenheit to celsium function\n",
    "f = int(input())\n",
    "def fahr_to_cels(fahr):\n",
    "    return (fahr-32)*5/9\n",
    "print(f,\"\\bF =\", fahr_to_cels(f), \"\\bC\")"
   ]
  },
  {
   "cell_type": "markdown",
   "metadata": {},
   "source": [
    "# Task 3"
   ]
  },
  {
   "cell_type": "code",
   "execution_count": 3,
   "metadata": {},
   "outputs": [
    {
     "name": "stdout",
     "output_type": "stream",
     "text": [
      "12 - number of cows\n",
      " 23 - number of rabbits\n"
     ]
    }
   ],
   "source": [
    "# Classic puzzle with cows and rabbits\n",
    "heads = 35\n",
    "legs = 94\n",
    "def solve(numheads,numlegs):\n",
    "    while (numheads*4 != numlegs):\n",
    "        numlegs-=2\n",
    "        numheads-=1\n",
    "    return numheads\n",
    "cows = solve(heads, legs)\n",
    "rabbits = heads - cows\n",
    "print(cows, \"- number of cows\\n\", rabbits, \"- number of rabbits\")"
   ]
  },
  {
   "cell_type": "markdown",
   "metadata": {},
   "source": [
    "# Task 4"
   ]
  },
  {
   "cell_type": "code",
   "execution_count": 4,
   "metadata": {},
   "outputs": [
    {
     "name": "stdout",
     "output_type": "stream",
     "text": [
      "3\n",
      "5\n",
      "7\n",
      "17\n",
      "13\n",
      "59\n"
     ]
    }
   ],
   "source": [
    "#print prime numbers\n",
    "numbers = [3,4,5,66,7,17,14,13,59]\n",
    "def filter_prime(number):\n",
    "    for i in range(2, number):\n",
    "        if(number%i == 0):\n",
    "            return 0\n",
    "        else:\n",
    "            return number\n",
    "for x in numbers:\n",
    "    if(filter_prime(x)>0):\n",
    "       print(filter_prime(x))"
   ]
  },
  {
   "cell_type": "markdown",
   "metadata": {},
   "source": [
    "# Task 5"
   ]
  },
  {
   "cell_type": "code",
   "execution_count": null,
   "metadata": {},
   "outputs": [
    {
     "name": "stdout",
     "output_type": "stream",
     "text": [
      "abc\n",
      "acb\n",
      "bac\n",
      "bca\n",
      "cab\n",
      "cba\n"
     ]
    }
   ],
   "source": [
    "#accept a \n",
    "import itertools\n",
    "\n",
    "def permutations():\n",
    "    user = input()\n",
    "    perms = itertools.permutations(user)\n",
    "    for perm in perms:\n",
    "        print(\"\".join(perm))\n",
    "permutations()\n",
    "\n"
   ]
  },
  {
   "cell_type": "markdown",
   "metadata": {},
   "source": [
    "# Task 6"
   ]
  },
  {
   "cell_type": "code",
   "execution_count": 18,
   "metadata": {},
   "outputs": [
    {
     "name": "stdout",
     "output_type": "stream",
     "text": [
      "ready\n",
      "are\n",
      "We\n"
     ]
    }
   ],
   "source": [
    "#accept string from a user, return a sentence with the words reversed\n",
    "def reveresed_words(sentence):\n",
    "    words = sentence.split()\n",
    "    rev_words = words[::-1]\n",
    "    return rev_words\n",
    "string = input()\n",
    "for x in reveresed_words(string):\n",
    "    print(x)"
   ]
  },
  {
   "cell_type": "markdown",
   "metadata": {},
   "source": [
    "# Task 7"
   ]
  },
  {
   "cell_type": "code",
   "execution_count": 7,
   "metadata": {},
   "outputs": [
    {
     "data": {
      "text/plain": [
       "True"
      ]
     },
     "execution_count": 7,
     "metadata": {},
     "output_type": "execute_result"
    }
   ],
   "source": [
    "def has_33(nums):\n",
    "    for i in range(len(nums)):\n",
    "        if(nums[i] == 3 and nums[i+1] == 3): \n",
    "            return True\n",
    "    return False\n",
    "has_33([1,3,3])\n"
   ]
  },
  {
   "cell_type": "markdown",
   "metadata": {},
   "source": [
    "# Task 8"
   ]
  },
  {
   "cell_type": "code",
   "execution_count": 8,
   "metadata": {},
   "outputs": [
    {
     "data": {
      "text/plain": [
       "False"
      ]
     },
     "execution_count": 8,
     "metadata": {},
     "output_type": "execute_result"
    }
   ],
   "source": [
    "def spy_game(nums):\n",
    "    for i in range(len(nums) - 2):\n",
    "        if(nums[i] == 0 and nums[i+1] == 0 and nums[i+2] == 7): \n",
    "            return True\n",
    "    return False\n",
    "spy_game([1,7,2,0,4,5,0])\n"
   ]
  },
  {
   "cell_type": "markdown",
   "metadata": {},
   "source": [
    "# Task 9"
   ]
  },
  {
   "cell_type": "code",
   "execution_count": 9,
   "metadata": {},
   "outputs": [
    {
     "data": {
      "text/plain": [
       "36.0"
      ]
     },
     "execution_count": 9,
     "metadata": {},
     "output_type": "execute_result"
    }
   ],
   "source": [
    "def calculate_volume(radius):\n",
    "    return (4/3)*pow(radius, 3)\n",
    "calculate_volume(3)"
   ]
  },
  {
   "cell_type": "markdown",
   "metadata": {},
   "source": [
    "# Task 10"
   ]
  },
  {
   "cell_type": "code",
   "execution_count": 10,
   "metadata": {},
   "outputs": [
    {
     "name": "stdout",
     "output_type": "stream",
     "text": [
      "[1, 2, 33, 3, 4, 5]\n"
     ]
    }
   ],
   "source": [
    "def unique_elements(lst):\n",
    "    unique_list = []\n",
    "    for x in lst:\n",
    "        if x not in unique_list:\n",
    "            unique_list.append(x)\n",
    "    return unique_list\n",
    "print(unique_elements([1,2,2,33,3,3,3,4,4,5]))"
   ]
  },
  {
   "cell_type": "markdown",
   "metadata": {},
   "source": [
    "# Task 11"
   ]
  },
  {
   "cell_type": "code",
   "execution_count": 11,
   "metadata": {},
   "outputs": [
    {
     "data": {
      "text/plain": [
       "True"
      ]
     },
     "execution_count": 11,
     "metadata": {},
     "output_type": "execute_result"
    }
   ],
   "source": [
    "def palindrome(str):\n",
    "    temp = \"\".join(x.lower() for x in str if x.isalnum())\n",
    "    return temp == temp[::-1]\n",
    "palindrome('madam')"
   ]
  },
  {
   "cell_type": "markdown",
   "metadata": {},
   "source": [
    "# Task 12"
   ]
  },
  {
   "cell_type": "code",
   "execution_count": 12,
   "metadata": {},
   "outputs": [
    {
     "name": "stdout",
     "output_type": "stream",
     "text": [
      "*\n",
      "**\n",
      "***\n"
     ]
    }
   ],
   "source": [
    "def histogram(lst):\n",
    "    for x in lst:\n",
    "        print(\"*\" * x)\n",
    "histogram([1,2,3])"
   ]
  },
  {
   "cell_type": "markdown",
   "metadata": {},
   "source": [
    "# Task 13"
   ]
  },
  {
   "cell_type": "code",
   "execution_count": 17,
   "metadata": {},
   "outputs": [
    {
     "name": "stdout",
     "output_type": "stream",
     "text": [
      "Hello, what is your name?\n",
      "\n",
      "Well, KBTU, I am thinking of a number between 1 and 20.\n",
      "\n",
      "Your guess is too high.\n",
      "\n",
      "Your guess is too high.\n",
      "\n",
      "Your guess is too high.\n",
      "\n",
      "Your guess is too high.\n",
      "\n",
      "Your guess is too low.\n",
      "\n",
      "Good job, KBTU! You guessed my number in 6 guesses!\n"
     ]
    }
   ],
   "source": [
    "import random\n",
    "def guess_number():\n",
    "    print(\"Hello, what is your name?\")\n",
    "    name = input()\n",
    "    print(f\"\\nWell, {name}, I am thinking of a number between 1 and 20.\")\n",
    "    number = random.randint(1,20)\n",
    "    tries = 0\n",
    "    while True:\n",
    "        user = int(input(\"Take a guess.\\n\"))\n",
    "        tries += 1\n",
    "\n",
    "        if user < number:\n",
    "            print(\"\\nYour guess is too low.\")\n",
    "        elif user > number:\n",
    "            print(\"\\nYour guess is too high.\")\n",
    "        else:\n",
    "            print(f\"\\nGood job, {name}! You guessed my number in {tries} guesses!\")\n",
    "            break\n",
    "guess_number()"
   ]
  }
 ],
 "metadata": {
  "kernelspec": {
   "display_name": "Python 3",
   "language": "python",
   "name": "python3"
  },
  "language_info": {
   "codemirror_mode": {
    "name": "ipython",
    "version": 3
   },
   "file_extension": ".py",
   "mimetype": "text/x-python",
   "name": "python",
   "nbconvert_exporter": "python",
   "pygments_lexer": "ipython3",
   "version": "3.13.1"
  }
 },
 "nbformat": 4,
 "nbformat_minor": 2
}
