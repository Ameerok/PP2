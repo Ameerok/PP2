{
 "cells": [
  {
   "cell_type": "markdown",
   "metadata": {},
   "source": [
    "# Task 1"
   ]
  },
  {
   "cell_type": "code",
   "execution_count": 2,
   "metadata": {},
   "outputs": [
    {
     "name": "stdout",
     "output_type": "stream",
     "text": [
      "HELLO, WORLD!\n"
     ]
    }
   ],
   "source": [
    "class Stringa:\n",
    "    def __init__(self):\n",
    "        self.user_string = \"\"\n",
    "    def getString(self):\n",
    "        self.user_string = input(\"Print a string\")\n",
    "    def printString(self):\n",
    "        print(self.user_string.upper())\n",
    "obj = Stringa()\n",
    "obj.getString()\n",
    "obj.printString()"
   ]
  },
  {
   "cell_type": "markdown",
   "metadata": {},
   "source": [
    "# Task 2:"
   ]
  },
  {
   "cell_type": "code",
   "execution_count": 13,
   "metadata": {},
   "outputs": [
    {
     "data": {
      "text/plain": [
       "25"
      ]
     },
     "execution_count": 13,
     "metadata": {},
     "output_type": "execute_result"
    }
   ],
   "source": [
    "class Shape:\n",
    "    def __init__(self):\n",
    "        pass\n",
    "    def area(self):\n",
    "        return 0\n",
    "class Square(Shape):\n",
    "    def __init__(self, length):\n",
    "        self.length = length\n",
    "    def area(self):\n",
    "        return self.length ** 2\n",
    "shape = Shape()\n",
    "shape.area()\n",
    "square = Square(5)\n",
    "square.area()"
   ]
  },
  {
   "cell_type": "markdown",
   "metadata": {},
   "source": [
    "# Task 3"
   ]
  },
  {
   "cell_type": "code",
   "execution_count": 12,
   "metadata": {},
   "outputs": [
    {
     "data": {
      "text/plain": [
       "24"
      ]
     },
     "execution_count": 12,
     "metadata": {},
     "output_type": "execute_result"
    }
   ],
   "source": [
    "class Shape:\n",
    "    def __init__(self):\n",
    "        pass\n",
    "    def area(self):\n",
    "        return 0\n",
    "class Square(Shape):\n",
    "    def __init__(self, length):\n",
    "        self.length = length\n",
    "    def area(self):\n",
    "        return self.length ** 2\n",
    "class Rectangle(Shape):\n",
    "    def __init__(self, width, length):\n",
    "        self.width = width\n",
    "        self.length = length\n",
    "    def area(self):\n",
    "        return self.width * self.length\n",
    "shape = Shape()\n",
    "shape.area()\n",
    "rect = Rectangle(4,6)\n",
    "rect.area()"
   ]
  },
  {
   "cell_type": "markdown",
   "metadata": {},
   "source": [
    "# Task 4"
   ]
  },
  {
   "cell_type": "code",
   "execution_count": 22,
   "metadata": {},
   "outputs": [
    {
     "name": "stdout",
     "output_type": "stream",
     "text": [
      "(1, 3)\n",
      "(-1, 7)\n",
      "5.0\n"
     ]
    }
   ],
   "source": [
    "import math\n",
    "class Point:\n",
    "    def __init__(self, x, y):\n",
    "        self.x = x\n",
    "        self.y = y\n",
    "    def show(self):\n",
    "        return self.x, self.y\n",
    "    def move(self, distX, distY): \n",
    "        return self.x+distX, self.y+distY\n",
    "    def dist(self, x1, y1):\n",
    "        return math.sqrt((self.x-x1)**2 + (self.y-y1)**2)\n",
    "point = Point(1,3)\n",
    "print(point.show())\n",
    "print(point.move(-2,4))\n",
    "print(point.dist(4,-1))"
   ]
  },
  {
   "cell_type": "markdown",
   "metadata": {},
   "source": [
    "# Task 5"
   ]
  },
  {
   "cell_type": "code",
   "execution_count": 40,
   "metadata": {},
   "outputs": [
    {
     "name": "stdout",
     "output_type": "stream",
     "text": [
      "New balance: 28000\n",
      "New balance: 15000\n",
      "Not enough money. Your balance is 15000\n",
      "Nice try)))\n",
      "Not enough money. Your balance is 15000\n",
      "Owner: Amir \n",
      "Balance: 15000\n"
     ]
    }
   ],
   "source": [
    "class Account:\n",
    "    def __init__(self, owner, balance):\n",
    "        self.owner = owner\n",
    "        self.balance = balance\n",
    "    def deposit(self, dep):\n",
    "        if dep >= 0: \n",
    "            self.balance += dep \n",
    "            return f\"New balance: {self.balance}\"\n",
    "        else:\n",
    "            return \"Nice try)))\"\n",
    "    def withdraw(self, aksha):\n",
    "        if(aksha <= self.balance and aksha >=0):\n",
    "            self.balance -= aksha\n",
    "            return f\"New balance: {self.balance}\"\n",
    "        else:\n",
    "            return f\"Not enough money. Your balance is {self.balance}\"\n",
    "    def info(self):\n",
    "        return f\"Owner: {self.owner} \\nBalance: {self.balance}\"\n",
    "amir = Account(\"Amir\", 25000)\n",
    "print(amir.deposit(3000))\n",
    "print(amir.withdraw(13000))\n",
    "print(amir.withdraw(16000))\n",
    "print(amir.deposit(-55000))\n",
    "print(amir.withdraw(-16000))\n",
    "print(amir.info())"
   ]
  },
  {
   "cell_type": "markdown",
   "metadata": {},
   "source": [
    "# Task 6"
   ]
  },
  {
   "cell_type": "code",
   "execution_count": 41,
   "metadata": {},
   "outputs": [
    {
     "name": "stdout",
     "output_type": "stream",
     "text": [
      "[2, 3, 5, 7, 11, 13, 17, 19, 7, 7, 7, 7]\n"
     ]
    }
   ],
   "source": [
    "isPrime = lambda x: x>1 and all(x%i != 0 for i in range(2, int(x ** 0.5)+1))\n",
    "nums = [1,2,3,4,5,6,7,8,9,10,11,12,13,14,15,16,17,18,19,20,20,20,20,21,7,7,7,7]\n",
    "primes = list(filter(isPrime, nums))\n",
    "print(primes)"
   ]
  }
 ],
 "metadata": {
  "kernelspec": {
   "display_name": "Python 3",
   "language": "python",
   "name": "python3"
  },
  "language_info": {
   "codemirror_mode": {
    "name": "ipython",
    "version": 3
   },
   "file_extension": ".py",
   "mimetype": "text/x-python",
   "name": "python",
   "nbconvert_exporter": "python",
   "pygments_lexer": "ipython3",
   "version": "3.13.1"
  }
 },
 "nbformat": 4,
 "nbformat_minor": 2
}
