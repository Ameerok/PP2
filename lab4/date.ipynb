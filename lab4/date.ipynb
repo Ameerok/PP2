{
 "cells": [
  {
   "cell_type": "markdown",
   "metadata": {},
   "source": [
    "# Task 1"
   ]
  },
  {
   "cell_type": "code",
   "execution_count": 52,
   "metadata": {},
   "outputs": [
    {
     "name": "stdout",
     "output_type": "stream",
     "text": [
      "Today - 2025-02-10\n",
      "5 days ago - 2025-02-05\n"
     ]
    }
   ],
   "source": [
    "from datetime import datetime, timedelta\n",
    "today = datetime.today()\n",
    "notToday = today - timedelta(days = 5)\n",
    "print(\"Today -\", today.strftime(\"%Y-%m-%d\"))\n",
    "print(\"5 days ago -\", notToday.strftime(\"%Y-%m-%d\"))"
   ]
  },
  {
   "cell_type": "markdown",
   "metadata": {},
   "source": [
    "# Task 2"
   ]
  },
  {
   "cell_type": "code",
   "execution_count": 53,
   "metadata": {},
   "outputs": [
    {
     "name": "stdout",
     "output_type": "stream",
     "text": [
      "Yesterday - 2025-02-09\n",
      "Today - 2025-02-10\n",
      "Tomorrow - 2025-02-11\n"
     ]
    }
   ],
   "source": [
    "from datetime import datetime\n",
    "today = datetime.today()\n",
    "yesterday = today - timedelta(days=1)\n",
    "tomorrow = today + timedelta(days=1)\n",
    "print(\"Yesterday -\", yesterday.strftime(\"%Y-%m-%d\"))\n",
    "print(\"Today -\", today.strftime(\"%Y-%m-%d\"))\n",
    "print(\"Tomorrow -\", tomorrow.strftime(\"%Y-%m-%d\"))"
   ]
  },
  {
   "cell_type": "markdown",
   "metadata": {},
   "source": [
    "# Task 3"
   ]
  },
  {
   "cell_type": "code",
   "execution_count": 59,
   "metadata": {},
   "outputs": [
    {
     "name": "stdout",
     "output_type": "stream",
     "text": [
      "2025-02-10 16:37:35.033943\n",
      "2025-02-10 16:37:35\n"
     ]
    }
   ],
   "source": [
    "now = datetime.now()\n",
    "noMicro = now.replace(microsecond=0)\n",
    "print(now) # with microseconds\n",
    "print(noMicro) # no microseconds"
   ]
  },
  {
   "cell_type": "markdown",
   "metadata": {},
   "source": [
    "# Task 4"
   ]
  },
  {
   "cell_type": "code",
   "execution_count": 73,
   "metadata": {},
   "outputs": [
    {
     "name": "stdout",
     "output_type": "stream",
     "text": [
      "From today to my birthday - 617945106.050384 seconds\n",
      "2025-02-10 16:38:19.050384\n"
     ]
    }
   ],
   "source": [
    "from datetime import datetime\n",
    "now = datetime.now()\n",
    "birthday = datetime(2005, 7, 13, 13, 13, 13)\n",
    "print(\"From today to my birthday -\", (now-birthday).total_seconds(), \"seconds\")\n",
    "print(now)"
   ]
  }
 ],
 "metadata": {
  "kernelspec": {
   "display_name": "Python 3",
   "language": "python",
   "name": "python3"
  },
  "language_info": {
   "codemirror_mode": {
    "name": "ipython",
    "version": 3
   },
   "file_extension": ".py",
   "mimetype": "text/x-python",
   "name": "python",
   "nbconvert_exporter": "python",
   "pygments_lexer": "ipython3",
   "version": "3.13.1"
  }
 },
 "nbformat": 4,
 "nbformat_minor": 2
}
