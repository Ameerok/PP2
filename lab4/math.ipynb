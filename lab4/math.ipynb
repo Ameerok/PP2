{
 "cells": [
  {
   "cell_type": "markdown",
   "metadata": {},
   "source": [
    "# Task 1"
   ]
  },
  {
   "cell_type": "code",
   "execution_count": 5,
   "metadata": {},
   "outputs": [
    {
     "name": "stdout",
     "output_type": "stream",
     "text": [
      "Output radian: 0.2617993877991494\n"
     ]
    }
   ],
   "source": [
    "import math\n",
    "def dgr_to_rad(dgr):\n",
    "    return dgr * (math.pi / 180)\n",
    "dgr = int(input(\"Input degree: \"))\n",
    "print(f\"Output radian: {dgr_to_rad(dgr)}\")\n"
   ]
  },
  {
   "cell_type": "markdown",
   "metadata": {},
   "source": [
    "# Task 2"
   ]
  },
  {
   "cell_type": "code",
   "execution_count": 15,
   "metadata": {},
   "outputs": [
    {
     "name": "stdout",
     "output_type": "stream",
     "text": [
      "Expected output: 27.5\n"
     ]
    }
   ],
   "source": [
    "def area(h,b1,b2):\n",
    "    return (b1+b2)/2*h\n",
    "h,b1,b2 = map(int, input(\"Height, base 1, base 2\").split())\n",
    "print(f\"Expected output: {area(h,b1,b2)}\")\n"
   ]
  },
  {
   "cell_type": "markdown",
   "metadata": {},
   "source": [
    "# Task 3"
   ]
  },
  {
   "cell_type": "code",
   "execution_count": 36,
   "metadata": {},
   "outputs": [
    {
     "name": "stdout",
     "output_type": "stream",
     "text": [
      "The area of the polygon is: 625\n"
     ]
    }
   ],
   "source": [
    "import math\n",
    "def area(n, side):\n",
    "    return (n*(side ** 2)) / (4 * math.tan(math.pi / n))\n",
    "n, side = map(int, input(\"Input number of sides and the length of a side: \").split())\n",
    "print(f\"The area of the polygon is: {int(area(n,side))}\")"
   ]
  },
  {
   "cell_type": "markdown",
   "metadata": {},
   "source": [
    "# Task 4"
   ]
  },
  {
   "cell_type": "code",
   "execution_count": 37,
   "metadata": {},
   "outputs": [
    {
     "name": "stdout",
     "output_type": "stream",
     "text": [
      "Expected output: 30\n"
     ]
    }
   ],
   "source": [
    "def area(base,height):\n",
    "    return base * height\n",
    "h,b = map(int, input(\"Input height and base\").split())\n",
    "print(f\"Expected output: {area(b,h)}\")\n"
   ]
  }
 ],
 "metadata": {
  "kernelspec": {
   "display_name": "Python 3",
   "language": "python",
   "name": "python3"
  },
  "language_info": {
   "codemirror_mode": {
    "name": "ipython",
    "version": 3
   },
   "file_extension": ".py",
   "mimetype": "text/x-python",
   "name": "python",
   "nbconvert_exporter": "python",
   "pygments_lexer": "ipython3",
   "version": "3.13.1"
  }
 },
 "nbformat": 4,
 "nbformat_minor": 2
}
